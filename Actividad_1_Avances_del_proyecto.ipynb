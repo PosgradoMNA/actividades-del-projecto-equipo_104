{
  "nbformat": 4,
  "nbformat_minor": 0,
  "metadata": {
    "colab": {
      "provenance": [],
      "collapsed_sections": [],
      "authorship_tag": "ABX9TyPOwCmWyd1xol+y0RoMkMeA",
      "include_colab_link": true
    },
    "kernelspec": {
      "name": "python3",
      "display_name": "Python 3"
    },
    "language_info": {
      "name": "python"
    }
  },
  "cells": [
    {
      "cell_type": "markdown",
      "metadata": {
        "id": "view-in-github",
        "colab_type": "text"
      },
      "source": [
        "<a href=\"https://colab.research.google.com/github/PosgradoMNA/actividades-del-projecto-equipo_104/blob/main/Actividad_1_Avances_del_proyecto.ipynb\" target=\"_parent\"><img src=\"https://colab.research.google.com/assets/colab-badge.svg\" alt=\"Open In Colab\"/></a>"
      ]
    },
    {
      "cell_type": "markdown",
      "source": [
        "# **Actividad 1: EQUIPO 104**\n",
        "\n"
      ],
      "metadata": {
        "id": "5nRdwHKYnp-I"
      }
    },
    {
      "cell_type": "markdown",
      "source": [
        "**INTEGRANTES**\n",
        "* Yves Turley Macias Vargas. | **A00813752**\n",
        "* Eddie Guadaluoe Elorza Ruiz | **A01793547**\n",
        "\n",
        "\n",
        "\n",
        "**Descripción general**\n",
        "\n",
        ">  A continuación el siguiente dataset pretende realizar un análisis del estado de salud de una persona con falla cardiaca. En diferentes aspectos de su vida y de las mediciones de capacidad de su corazon.\n",
        "<br>\n",
        "\n",
        "**Nombre que caracteriza el conjunto de datos:**\n",
        "\n",
        "> *Historias clinicas de insuficiencia cardiaca*\n",
        "<br>\n",
        "\n",
        "**Link de descarga de los datos:**\n",
        "\n",
        "* [base de datos](https://github.com/PosgradoMNA/actividades-del-projecto-equipo_104/tree/main/dataset)\n",
        "\n",
        "* [UC Irvine](https://archive-beta.ics.uci.edu/ml/datasets/heart+failure+clinical+records)\n",
        "<br>\n",
        "\n",
        "**Describe el conjunto de datos. ¿Qué datos contiene?:**\n",
        "\n",
        "* Este dataset contiene el historial clinico de 299 pacientes.\n",
        "\n",
        "<table>\n",
        "  <tr>\n",
        "    <th>Atributo</th>\n",
        "    <th>Descripción</th>\n",
        "    <th>Tipo de dato</th>\n",
        "  </tr>\n",
        "  <tr>\n",
        "    <td>Age</td>\n",
        "    <td>Edad del paciente</td>\n",
        "    <td>Númerico Entero</td>\n",
        "  </tr>\n",
        "  <tr>\n",
        "    <td>Anaemia</td>\n",
        "    <td>Disminución de glóbulos rojos o hemoglobina</td>\n",
        "    <td>Booleano</td>\n",
        "  </tr>\n",
        "  <tr>\n",
        "    <td>creatinine_phosphokinase</td>\n",
        "    <td>Nivel en enzima en el cuerpo</td>\n",
        "    <td>Númerico Entero</td>\n",
        "  </tr>\n",
        "  <tr>\n",
        "    <td>diabetes</td>\n",
        "    <td>Padecimiento del paciente</td>\n",
        "    <td>Booleano</td>\n",
        "  </tr>\n",
        "  <tr>\n",
        "    <td>ejection_fraction</td>\n",
        "    <td>Porcentaje de sangre que sale del corazón en cada contracción</td>\n",
        "    <td>Númerico Entero</td>\n",
        "  </tr>\n",
        "  <tr>\n",
        "    <td>high_blood_pressure</td>\n",
        "    <td>Hipertención en el paciente</td>\n",
        "    <td>Booleano</td>\n",
        "  </tr>\n",
        "  <tr>\n",
        "    <td>platelets</td>\n",
        "    <td>Nivel sanguineo en el paciente</td>\n",
        "    <td>Númerico Flotante</td>\n",
        "  </tr>\n",
        "  <tr>\n",
        "    <td>serum_creatinine</td>\n",
        "    <td>Nivel de creatinina sérica en la sangre</td>\n",
        "    <td>Númerico Flotante</td>\n",
        "  </tr>\n",
        "  <tr>\n",
        "    <td>serum_sodium</td>\n",
        "    <td>Nivel de sodio sérica en la sangre</td>\n",
        "    <td>Númerico Entero</td>\n",
        "  </tr>\n",
        "  <tr>\n",
        "    <td>sex</td>\n",
        "    <td>Hombre o Mujer</td>\n",
        "    <td>Booleano</td>\n",
        "  </tr>\n",
        "  <tr>\n",
        "    <td>smoking</td>\n",
        "    <td>El panciente es fumador o no</td>\n",
        "    <td>Booleano</td>\n",
        "  </tr>\n",
        "  <tr>\n",
        "    <td>time</td>\n",
        "    <td>Tiempo en segundos de un paro al corazón</td>\n",
        "    <td>Númerico Entero</td>\n",
        "  </tr>\n",
        "  <tr>\n",
        "    <td>DEATH_EVENT</td>\n",
        "    <td>Estado de fallecimiento del paciente</td>\n",
        "    <td>Booleano</td>\n",
        "  </tr>\n",
        "</table>\n",
        "<br>\n",
        "\n",
        "**¿Cuáles son algunas de las preguntas de investigación que podría responder con estos datos?**\n",
        "1. ¿Cual es la Proporcion de efecto sobre un paro cardiaco al fumar?\n",
        "2. ¿Cual es la edad con mayor incidencia fatal tras un paro cardiaco?\n",
        "3. ¿Efecto del genero sobre la mortalidad ante un paro cardiaco?\n",
        "4. La presencia de diabetes, ¿cuanto incrementa el factor de riesgo en la mortalidad por paro cardiaco?\n",
        "5. ¿Proporcion del universo que al tener diabetes y presion sanguinea alta,  terminaron en fatalidad?\n",
        "6. Comparativa de generos respecto a diabetes, presion sanguinea y anemia.\n",
        "7. ¿Cual es el porcentaje menor de la fraccion de eyeccion de insufencia cardiaca, que tenga la mayor probabilidad de vida?\n",
        "8. ¿Cual es el porcentaje de efecto de la anemia sobre una falla cardiaca?\n",
        "<br>\n",
        "\n",
        "**¿Qué actor (empresa, sector de la sociedad, organismo descentralizado, gobierno, etc.) estaría interesado en las preguntas mencionadas que identificó?**\n",
        "*   Sector salud\n",
        "\n"
      ],
      "metadata": {
        "id": "9Nuy28Q1nxBU"
      }
    },
    {
      "cell_type": "code",
      "execution_count": null,
      "metadata": {
        "id": "l3j7a4pNnDDl"
      },
      "outputs": [],
      "source": []
    }
  ]
}