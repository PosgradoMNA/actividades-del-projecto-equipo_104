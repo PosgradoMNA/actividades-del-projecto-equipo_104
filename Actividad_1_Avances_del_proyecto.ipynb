{
  "nbformat": 4,
  "nbformat_minor": 0,
  "metadata": {
    "colab": {
      "provenance": [],
      "authorship_tag": "ABX9TyMC3MDEAlh3hT+5IBMJe2cf",
      "include_colab_link": true
    },
    "kernelspec": {
      "name": "python3",
      "display_name": "Python 3"
    },
    "language_info": {
      "name": "python"
    }
  },
  "cells": [
    {
      "cell_type": "markdown",
      "metadata": {
        "id": "view-in-github",
        "colab_type": "text"
      },
      "source": [
        "<a href=\"https://colab.research.google.com/github/PosgradoMNA/actividades-del-projecto-equipo_104/blob/main/Actividad_1_Avances_del_proyecto.ipynb\" target=\"_parent\"><img src=\"https://colab.research.google.com/assets/colab-badge.svg\" alt=\"Open In Colab\"/></a>"
      ]
    },
    {
      "cell_type": "markdown",
      "source": [
        "# **Actividad 1**"
      ],
      "metadata": {
        "id": "5nRdwHKYnp-I"
      }
    },
    {
      "cell_type": "markdown",
      "source": [
        "**Descripción general**\n",
        "\n",
        ">  A continuación el siguiente dataset pretende realizar un análisis del estado de salud de una persona con falla cardiaca. En diferentes aspectos de su vida y de las mediciones de capacidad de su corazon.\n",
        "\n",
        "<br>\n",
        "\n",
        "**Nombre que caracteriza el conjunto de datos:**\n",
        "\n",
        "*Historias clinicas de insuficiencia cardiaca*\n",
        "\n",
        "**Link de descarga de los datos:**\n",
        "[base de datos](https://github.com/PosgradoMNA/actividades-del-projecto-equipo_104/tree/main/dataset)\n",
        "\n",
        "\n",
        "\n",
        "**Describe el conjunto de datos. ¿Qué datos contiene?:**\n",
        "\n",
        "\n",
        "\n",
        "**¿Cuáles son algunas de las preguntas de investigación que podría responder con estos datos?**\n",
        "\n",
        "**¿Qué actor (empresa, sector de la sociedad, organismo descentralizado, gobierno, etc.) estaría interesado en las preguntas mencionadas que identificó?**"
      ],
      "metadata": {
        "id": "9Nuy28Q1nxBU"
      }
    },
    {
      "cell_type": "code",
      "execution_count": null,
      "metadata": {
        "id": "l3j7a4pNnDDl"
      },
      "outputs": [],
      "source": []
    }
  ]
}