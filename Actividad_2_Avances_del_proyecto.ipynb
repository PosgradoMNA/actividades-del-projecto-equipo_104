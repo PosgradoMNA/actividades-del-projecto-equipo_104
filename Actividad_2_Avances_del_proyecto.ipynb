{
  "nbformat": 4,
  "nbformat_minor": 0,
  "metadata": {
    "colab": {
      "provenance": [],
      "authorship_tag": "ABX9TyOyywe1fZA9N8OXey3xAIH2",
      "include_colab_link": true
    },
    "kernelspec": {
      "name": "python3",
      "display_name": "Python 3"
    },
    "language_info": {
      "name": "python"
    }
  },
  "cells": [
    {
      "cell_type": "markdown",
      "metadata": {
        "id": "view-in-github",
        "colab_type": "text"
      },
      "source": [
        "<a href=\"https://colab.research.google.com/github/PosgradoMNA/actividades-del-projecto-equipo_104/blob/main/Actividad_2_Avances_del_proyecto.ipynb\" target=\"_parent\"><img src=\"https://colab.research.google.com/assets/colab-badge.svg\" alt=\"Open In Colab\"/></a>"
      ]
    },
    {
      "cell_type": "markdown",
      "source": [
        "# **Actividad 2: EQUIPO 104**\n"
      ],
      "metadata": {
        "id": "ISk06h5KUlnN"
      }
    },
    {
      "cell_type": "markdown",
      "source": [
        "---\n",
        "**INTEGRANTES**\n",
        "* Yves Turley Macias Vargas. | **A00813752**\n",
        "* Eddie Guadalupe Elorza Ruiz | **A01793547**\n",
        "<br>\n",
        "\n",
        "##**METODOLOGÍA: CRIPS-DM**\n",
        "\n",
        ">  Es un modelo flexible y de personalización sencilla permitiendo una escalabilidad agil dentro del ciclo de vida del proyecto de analisis de datos, esta metodología consta de 6 fases que se van superando de acuerdo al avance del proyecto, y estas fases no demuestran el find el proyecto ya que permiten seguir iterando la escalabilidad del analisis. \n",
        "<br>\n",
        "##**ETAPAS**\n",
        "* **Fase 1: Business Understanding:**\n",
        "* **Fase 2: Data Understanding:**\n",
        "* **Fase 3: Data Preparation:**\n",
        "* **Fase 4: Modeling:**\n",
        "* **Fase 5: Evaluation:**\n",
        "* **Fase 6: Deployment:**"
      ],
      "metadata": {
        "id": "2BVQ5L9mUqct"
      }
    },
    {
      "cell_type": "markdown",
      "source": [
        "##**DIAGRAMA MIRO**\n",
        "\n"
      ],
      "metadata": {
        "id": "yFtlxfg9anDQ"
      }
    },
    {
      "cell_type": "code",
      "execution_count": null,
      "metadata": {
        "id": "m0ZjELDAh6ys"
      },
      "outputs": [],
      "source": []
    }
  ]
}